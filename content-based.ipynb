{
 "cells": [
  {
   "cell_type": "markdown",
   "source": [
    "## Content-Based Recommender\n",
    "Implementing a content-based recommender system using a csv containing cosmetic products' reviews.\n"
   ],
   "metadata": {
    "collapsed": false
   },
   "id": "992da334be79604d"
  },
  {
   "cell_type": "markdown",
   "source": [
    "### Importing the dataset\n",
    "The dataset contains 5626 reviews from multiple users.\n",
    "Dataset url: https://www.kaggle.com/datasets/jithinanievarghese/cosmetics-and-beauty-products-reviews-top-brands"
   ],
   "metadata": {
    "collapsed": false
   },
   "id": "6d9cc4d8fd84a1dc"
  },
  {
   "cell_type": "code",
   "execution_count": 47,
   "outputs": [
    {
     "data": {
      "text/plain": "            0           1           2          3             4            5   \\\ncolumns  index  product_id  brand_name  review_id  review_title  review_text   \n\n             6            7              8           9         10  \\\ncolumns  author  review_date  review_rating  is_a_buyer  pro_user   \n\n                   11             12   13     14              15  \\\ncolumns  review_label  product_title  mrp  price  product_rating   \n\n                           16            17           18  \ncolumns  product_rating_count  product_tags  product_url  ",
      "text/html": "<div>\n<style scoped>\n    .dataframe tbody tr th:only-of-type {\n        vertical-align: middle;\n    }\n\n    .dataframe tbody tr th {\n        vertical-align: top;\n    }\n\n    .dataframe thead th {\n        text-align: right;\n    }\n</style>\n<table border=\"1\" class=\"dataframe\">\n  <thead>\n    <tr style=\"text-align: right;\">\n      <th></th>\n      <th>0</th>\n      <th>1</th>\n      <th>2</th>\n      <th>3</th>\n      <th>4</th>\n      <th>5</th>\n      <th>6</th>\n      <th>7</th>\n      <th>8</th>\n      <th>9</th>\n      <th>10</th>\n      <th>11</th>\n      <th>12</th>\n      <th>13</th>\n      <th>14</th>\n      <th>15</th>\n      <th>16</th>\n      <th>17</th>\n      <th>18</th>\n    </tr>\n  </thead>\n  <tbody>\n    <tr>\n      <th>columns</th>\n      <td>index</td>\n      <td>product_id</td>\n      <td>brand_name</td>\n      <td>review_id</td>\n      <td>review_title</td>\n      <td>review_text</td>\n      <td>author</td>\n      <td>review_date</td>\n      <td>review_rating</td>\n      <td>is_a_buyer</td>\n      <td>pro_user</td>\n      <td>review_label</td>\n      <td>product_title</td>\n      <td>mrp</td>\n      <td>price</td>\n      <td>product_rating</td>\n      <td>product_rating_count</td>\n      <td>product_tags</td>\n      <td>product_url</td>\n    </tr>\n  </tbody>\n</table>\n</div>"
     },
     "execution_count": 47,
     "metadata": {},
     "output_type": "execute_result"
    }
   ],
   "source": [
    "import algo\n",
    "import numpy as np\n",
    "import pandas as pd\n",
    "\n",
    "metadata = pd.read_csv('top_brands_cosmetics_product_reviews.csv', low_memory=False)\n",
    "\n",
    "# keeping the products with more than 90% of the total rating count\n",
    "quantile = 0.9\n",
    "metadata = metadata[metadata.product_rating_count > metadata.product_rating_count.quantile(quantile)].reset_index()\n",
    "pd.DataFrame(metadata.columns, columns=['columns']).T  # printing the columns"
   ],
   "metadata": {
    "collapsed": false,
    "ExecuteTime": {
     "end_time": "2023-11-08T13:20:19.297903100Z",
     "start_time": "2023-11-08T13:20:18.174542400Z"
    }
   },
   "id": "f25e18e01bc99525"
  },
  {
   "cell_type": "code",
   "execution_count": 45,
   "outputs": [
    {
     "ename": "NameError",
     "evalue": "name 'metadata' is not defined",
     "output_type": "error",
     "traceback": [
      "\u001B[1;31m---------------------------------------------------------------------------\u001B[0m",
      "\u001B[1;31mNameError\u001B[0m                                 Traceback (most recent call last)",
      "Cell \u001B[1;32mIn[45], line 1\u001B[0m\n\u001B[1;32m----> 1\u001B[0m \u001B[38;5;28mprint\u001B[39m(\u001B[43mmetadata\u001B[49m\u001B[38;5;241m.\u001B[39mproduct_rating_count\u001B[38;5;241m.\u001B[39mquantile(quantile))\n",
      "\u001B[1;31mNameError\u001B[0m: name 'metadata' is not defined"
     ]
    }
   ],
   "source": [
    "print(metadata.product_rating_count.quantile(quantile))"
   ],
   "metadata": {
    "collapsed": false,
    "ExecuteTime": {
     "end_time": "2023-11-08T13:19:47.073344800Z",
     "start_time": "2023-11-08T13:19:46.940399600Z"
    }
   },
   "id": "793ff69ecc9ba28e"
  },
  {
   "cell_type": "code",
   "execution_count": 4,
   "outputs": [
    {
     "data": {
      "text/plain": "   index  product_id       brand_name  review_id  \\\n0   2630      787778  Nykaa Cosmetics   20267584   \n1   2631      787778  Nykaa Cosmetics   23180898   \n2   2632      787778  Nykaa Cosmetics   18339680   \n3   2633      787778  Nykaa Cosmetics   19639377   \n4   2634      787778  Nykaa Cosmetics   19458814   \n\n                                 review_title  \\\n0                             Madras kaapi 05   \n1                                   Must have   \n2                             The perfect red   \n3                                    Kufri 21   \n4  Recommending for normal skin tone.loved it   \n\n                                         review_text             author  \\\n0  Easy to apply. Mini travel friendly for daily ...      Niggitha John   \n1  Quality is really good and since the size is s...       Tatung Yumme   \n2  I finally end my search for the most regal,dee...  sushmita mukherji   \n3  Just mad and in love with color and soo cute m...      Hetal Makvana   \n4  Super nude shade suitable for normal to dusky ...      Fathima Nisar   \n\n           review_date  review_rating  is_a_buyer  pro_user    review_label  \\\n0  2021-08-31 12:27:02            5.0        True     False  Verified Buyer   \n1  2022-02-28 15:03:26            5.0        True     False  Verified Buyer   \n2  2021-05-12 15:54:33            5.0        True     False  Verified Buyer   \n3  2021-07-26 14:44:37            5.0        True     False  Verified Buyer   \n4  2021-07-17 14:46:07            5.0        True     False  Verified Buyer   \n\n                                       product_title  mrp  price  \\\n0  Nykaa Matte to Last! Mini Liquid Lipstick - Jh...  239    203   \n1  Nykaa Matte to Last! Mini Liquid Lipstick - Jh...  239    203   \n2  Nykaa Matte to Last! Mini Liquid Lipstick - Jh...  239    203   \n3  Nykaa Matte to Last! Mini Liquid Lipstick - Jh...  239    203   \n4  Nykaa Matte to Last! Mini Liquid Lipstick - Jh...  239    203   \n\n   product_rating  product_rating_count product_tags  \\\n0             3.9                 80807          NaN   \n1             3.9                 80807          NaN   \n2             3.9                 80807          NaN   \n3             3.9                 80807          NaN   \n4             3.9                 80807          NaN   \n\n                                         product_url  \n0  https://www.nykaa.com/nykaa-matte-to-last-mini...  \n1  https://www.nykaa.com/nykaa-matte-to-last-mini...  \n2  https://www.nykaa.com/nykaa-matte-to-last-mini...  \n3  https://www.nykaa.com/nykaa-matte-to-last-mini...  \n4  https://www.nykaa.com/nykaa-matte-to-last-mini...  ",
      "text/html": "<div>\n<style scoped>\n    .dataframe tbody tr th:only-of-type {\n        vertical-align: middle;\n    }\n\n    .dataframe tbody tr th {\n        vertical-align: top;\n    }\n\n    .dataframe thead th {\n        text-align: right;\n    }\n</style>\n<table border=\"1\" class=\"dataframe\">\n  <thead>\n    <tr style=\"text-align: right;\">\n      <th></th>\n      <th>index</th>\n      <th>product_id</th>\n      <th>brand_name</th>\n      <th>review_id</th>\n      <th>review_title</th>\n      <th>review_text</th>\n      <th>author</th>\n      <th>review_date</th>\n      <th>review_rating</th>\n      <th>is_a_buyer</th>\n      <th>pro_user</th>\n      <th>review_label</th>\n      <th>product_title</th>\n      <th>mrp</th>\n      <th>price</th>\n      <th>product_rating</th>\n      <th>product_rating_count</th>\n      <th>product_tags</th>\n      <th>product_url</th>\n    </tr>\n  </thead>\n  <tbody>\n    <tr>\n      <th>0</th>\n      <td>2630</td>\n      <td>787778</td>\n      <td>Nykaa Cosmetics</td>\n      <td>20267584</td>\n      <td>Madras kaapi 05</td>\n      <td>Easy to apply. Mini travel friendly for daily ...</td>\n      <td>Niggitha John</td>\n      <td>2021-08-31 12:27:02</td>\n      <td>5.0</td>\n      <td>True</td>\n      <td>False</td>\n      <td>Verified Buyer</td>\n      <td>Nykaa Matte to Last! Mini Liquid Lipstick - Jh...</td>\n      <td>239</td>\n      <td>203</td>\n      <td>3.9</td>\n      <td>80807</td>\n      <td>NaN</td>\n      <td>https://www.nykaa.com/nykaa-matte-to-last-mini...</td>\n    </tr>\n    <tr>\n      <th>1</th>\n      <td>2631</td>\n      <td>787778</td>\n      <td>Nykaa Cosmetics</td>\n      <td>23180898</td>\n      <td>Must have</td>\n      <td>Quality is really good and since the size is s...</td>\n      <td>Tatung Yumme</td>\n      <td>2022-02-28 15:03:26</td>\n      <td>5.0</td>\n      <td>True</td>\n      <td>False</td>\n      <td>Verified Buyer</td>\n      <td>Nykaa Matte to Last! Mini Liquid Lipstick - Jh...</td>\n      <td>239</td>\n      <td>203</td>\n      <td>3.9</td>\n      <td>80807</td>\n      <td>NaN</td>\n      <td>https://www.nykaa.com/nykaa-matte-to-last-mini...</td>\n    </tr>\n    <tr>\n      <th>2</th>\n      <td>2632</td>\n      <td>787778</td>\n      <td>Nykaa Cosmetics</td>\n      <td>18339680</td>\n      <td>The perfect red</td>\n      <td>I finally end my search for the most regal,dee...</td>\n      <td>sushmita mukherji</td>\n      <td>2021-05-12 15:54:33</td>\n      <td>5.0</td>\n      <td>True</td>\n      <td>False</td>\n      <td>Verified Buyer</td>\n      <td>Nykaa Matte to Last! Mini Liquid Lipstick - Jh...</td>\n      <td>239</td>\n      <td>203</td>\n      <td>3.9</td>\n      <td>80807</td>\n      <td>NaN</td>\n      <td>https://www.nykaa.com/nykaa-matte-to-last-mini...</td>\n    </tr>\n    <tr>\n      <th>3</th>\n      <td>2633</td>\n      <td>787778</td>\n      <td>Nykaa Cosmetics</td>\n      <td>19639377</td>\n      <td>Kufri 21</td>\n      <td>Just mad and in love with color and soo cute m...</td>\n      <td>Hetal Makvana</td>\n      <td>2021-07-26 14:44:37</td>\n      <td>5.0</td>\n      <td>True</td>\n      <td>False</td>\n      <td>Verified Buyer</td>\n      <td>Nykaa Matte to Last! Mini Liquid Lipstick - Jh...</td>\n      <td>239</td>\n      <td>203</td>\n      <td>3.9</td>\n      <td>80807</td>\n      <td>NaN</td>\n      <td>https://www.nykaa.com/nykaa-matte-to-last-mini...</td>\n    </tr>\n    <tr>\n      <th>4</th>\n      <td>2634</td>\n      <td>787778</td>\n      <td>Nykaa Cosmetics</td>\n      <td>19458814</td>\n      <td>Recommending for normal skin tone.loved it</td>\n      <td>Super nude shade suitable for normal to dusky ...</td>\n      <td>Fathima Nisar</td>\n      <td>2021-07-17 14:46:07</td>\n      <td>5.0</td>\n      <td>True</td>\n      <td>False</td>\n      <td>Verified Buyer</td>\n      <td>Nykaa Matte to Last! Mini Liquid Lipstick - Jh...</td>\n      <td>239</td>\n      <td>203</td>\n      <td>3.9</td>\n      <td>80807</td>\n      <td>NaN</td>\n      <td>https://www.nykaa.com/nykaa-matte-to-last-mini...</td>\n    </tr>\n  </tbody>\n</table>\n</div>"
     },
     "execution_count": 4,
     "metadata": {},
     "output_type": "execute_result"
    }
   ],
   "source": [
    "metadata.head()"
   ],
   "metadata": {
    "collapsed": false,
    "ExecuteTime": {
     "end_time": "2023-10-20T21:08:54.237717200Z",
     "start_time": "2023-10-20T21:08:54.174597Z"
    }
   },
   "id": "4b1c34263eb14c2b"
  },
  {
   "cell_type": "code",
   "execution_count": 4,
   "outputs": [
    {
     "name": "stdout",
     "output_type": "stream",
     "text": [
      "Matrix contains 5622 rows and 1982 columns\n"
     ]
    }
   ],
   "source": [
    "from sklearn.feature_extraction.text import TfidfVectorizer\n",
    "\n",
    "# transform the plot summaries into vector representations to be able to apply numeric machine learning algorithms (feature extraction)\n",
    "vectorizer = TfidfVectorizer(stop_words='english', max_df=0.8, min_df=2)\n",
    "metadata.review_text = metadata.review_text.fillna('')\n",
    "tfidf_model = vectorizer.fit_transform(metadata.review_text)\n",
    "# each plot summary will be transformed into a sequence of words to point a high dimensional semantic space (the tf-idf model is used here) \n",
    "print(f'Matrix contains {tfidf_model.shape[0]} rows and {tfidf_model.shape[1]} columns')\n",
    "# counts the number of times a word appears in the document to decide the importance of the word in the document"
   ],
   "metadata": {
    "collapsed": false,
    "ExecuteTime": {
     "end_time": "2023-11-07T19:45:00.577897500Z",
     "start_time": "2023-11-07T19:44:57.112761300Z"
    }
   },
   "id": "c29f5133bb1d6adf"
  },
  {
   "cell_type": "markdown",
   "source": [
    "BOW (Bag of Words) model counts the amount of times a word appears in a document (sparse, most of the entries in the vector are 0)\n",
    "\n",
    "TF-IDF (Term Frequency - Inverse Document Frequency) model counts the amount of times a word appears in a document, but also takes into account how often the word appears in all documents. it down-weights words that appear frequently across documents, making them less informative than those that appear rarely.\n",
    "\n",
    "Every plot summary is encoded as a single vector whose length is equal to the size of the vocabulary of all the plot summary.\n",
    "\n",
    "TD-IDF transforms the plot summaries into a matrix. It ignores words that appear in more than 80% of the reviews and the ones that occur in less than 2 -> the noise is reduced."
   ],
   "metadata": {
    "collapsed": false
   },
   "id": "dab255102c3f75d2"
  },
  {
   "cell_type": "code",
   "execution_count": 9,
   "outputs": [
    {
     "data": {
      "text/plain": "   cream      skin  awesome     shade  mascara       red  powder  blush\n0    0.0  0.205144      0.0  0.149753      0.0  0.000000     0.0    0.0\n1    0.0  0.000000      0.0  0.000000      0.0  0.000000     0.0    0.0\n2    0.0  0.000000      0.0  0.114084      0.0  0.221099     0.0    0.0\n3    0.0  0.000000      0.0  0.000000      0.0  0.000000     0.0    0.0\n4    0.0  0.251692      0.0  0.183732      0.0  0.000000     0.0    0.0",
      "text/html": "<div>\n<style scoped>\n    .dataframe tbody tr th:only-of-type {\n        vertical-align: middle;\n    }\n\n    .dataframe tbody tr th {\n        vertical-align: top;\n    }\n\n    .dataframe thead th {\n        text-align: right;\n    }\n</style>\n<table border=\"1\" class=\"dataframe\">\n  <thead>\n    <tr style=\"text-align: right;\">\n      <th></th>\n      <th>cream</th>\n      <th>skin</th>\n      <th>awesome</th>\n      <th>shade</th>\n      <th>mascara</th>\n      <th>red</th>\n      <th>powder</th>\n      <th>blush</th>\n    </tr>\n  </thead>\n  <tbody>\n    <tr>\n      <th>0</th>\n      <td>0.0</td>\n      <td>0.205144</td>\n      <td>0.0</td>\n      <td>0.149753</td>\n      <td>0.0</td>\n      <td>0.000000</td>\n      <td>0.0</td>\n      <td>0.0</td>\n    </tr>\n    <tr>\n      <th>1</th>\n      <td>0.0</td>\n      <td>0.000000</td>\n      <td>0.0</td>\n      <td>0.000000</td>\n      <td>0.0</td>\n      <td>0.000000</td>\n      <td>0.0</td>\n      <td>0.0</td>\n    </tr>\n    <tr>\n      <th>2</th>\n      <td>0.0</td>\n      <td>0.000000</td>\n      <td>0.0</td>\n      <td>0.114084</td>\n      <td>0.0</td>\n      <td>0.221099</td>\n      <td>0.0</td>\n      <td>0.0</td>\n    </tr>\n    <tr>\n      <th>3</th>\n      <td>0.0</td>\n      <td>0.000000</td>\n      <td>0.0</td>\n      <td>0.000000</td>\n      <td>0.0</td>\n      <td>0.000000</td>\n      <td>0.0</td>\n      <td>0.0</td>\n    </tr>\n    <tr>\n      <th>4</th>\n      <td>0.0</td>\n      <td>0.251692</td>\n      <td>0.0</td>\n      <td>0.183732</td>\n      <td>0.0</td>\n      <td>0.000000</td>\n      <td>0.0</td>\n      <td>0.0</td>\n    </tr>\n  </tbody>\n</table>\n</div>"
     },
     "execution_count": 9,
     "metadata": {},
     "output_type": "execute_result"
    }
   ],
   "source": [
    "popular_terms = ['cream', 'skin', 'awesome', 'shade', 'mascara', 'red', 'powder', 'blush']\n",
    "# inspect the tf-idf model using popular makeup terms\n",
    "columns = vectorizer.get_feature_names_out()\n",
    "tdidf_df = pd.DataFrame.sparse.from_spmatrix(tfidf_model, columns=columns)\n",
    "tdidf_df[popular_terms].head()"
   ],
   "metadata": {
    "collapsed": false,
    "ExecuteTime": {
     "end_time": "2023-11-07T19:46:31.476242Z",
     "start_time": "2023-11-07T19:46:31.279979Z"
    }
   },
   "id": "72f5d65380f305e"
  },
  {
   "cell_type": "code",
   "execution_count": null,
   "outputs": [],
   "source": [
    "from sklearn.neighbors import NearestNeighbors\n",
    "\n",
    "\n",
    "# apply the cosine similarity between different products based on their plot summary term frequency occurrence-signature\n",
    "\n",
    "# find the most similar products to a given product\n",
    "def get_content_based_recommendation(product_title, top_n=10, metric='cosine'):\n",
    "    # get the index of the product that matches the title\n",
    "    # the index is used to find the row in the tf-idf matrix that corresponds to the product\n",
    "    idx = metadata[metadata.product_title.str.lower() == product_title.lower()].empty\n",
    "\n",
    "    model = NearestNeighbors(n_neighbors=top_n, metric=metric)\n",
    "    model.fit(tfidf_model)\n",
    "    # use a k-nearest neighbors model to find the most similar products\n",
    "    similar_products = model.kneighbors(tfidf_model[idx], return_distance=False)[0]\n",
    "\n",
    "    # top 10 most similar products\n",
    "    return metadata.iloc[similar_products]"
   ],
   "metadata": {
    "collapsed": false
   },
   "id": "8ce177a82d251eea"
  },
  {
   "cell_type": "code",
   "execution_count": 11,
   "outputs": [
    {
     "data": {
      "text/plain": "                                          product_title  review_rating  \\\n1     Nykaa Matte to Last! Mini Liquid Lipstick - Jh...            5.0   \n688   Nykaa Matte to Last! Mini Liquid Lipstick - Jh...            5.0   \n415   Nykaa Matte to Last! Mini Liquid Lipstick - Jh...            5.0   \n1722           Nykaa Serial Kisser Lip Balm - Raspberry            5.0   \n692   Nykaa Matte to Last! Mini Liquid Lipstick - Jh...            5.0   \n1252               Nykaa Serial Kisser Lip Balm - Grape            5.0   \n196   Nykaa Matte to Last! Mini Liquid Lipstick - Jh...            5.0   \n1150       Nykaa So Matte! Mini Lipstick - 26 M Bon Bon            5.0   \n75    Nykaa Matte to Last! Mini Liquid Lipstick - Jh...            5.0   \n2126  Nykaa So Matte! Mini Lipstick - 17 M Cranberry...            5.0   \n\n      product_rating  product_rating_count  \\\n1                3.9                 80807   \n688              3.9                 80807   \n415              3.9                 80807   \n1722             4.0                 16264   \n692              3.9                 80807   \n1252             4.0                 16264   \n196              3.9                 80807   \n1150             4.0                 98477   \n75               3.9                 80807   \n2126             4.0                 98477   \n\n                                            review_text  \n1     Quality is really good and since the size is s...  \n688   It's a beautiful shade and has a really pleasa...  \n415   Over all nice product but size is too small.. ...  \n1722                      I really liked the product..!  \n692   It's very small only 1.3ml but it looks very c...  \n1252  This is a really good lip balm with a really g...  \n196            Very cute easy to carry lipstick love it  \n1150  Easy to carry around as it's small. Loved the ...  \n75    It is very very good .... Very small and easy ...  \n2126                                        Really good  ",
      "text/html": "<div>\n<style scoped>\n    .dataframe tbody tr th:only-of-type {\n        vertical-align: middle;\n    }\n\n    .dataframe tbody tr th {\n        vertical-align: top;\n    }\n\n    .dataframe thead th {\n        text-align: right;\n    }\n</style>\n<table border=\"1\" class=\"dataframe\">\n  <thead>\n    <tr style=\"text-align: right;\">\n      <th></th>\n      <th>product_title</th>\n      <th>review_rating</th>\n      <th>product_rating</th>\n      <th>product_rating_count</th>\n      <th>review_text</th>\n    </tr>\n  </thead>\n  <tbody>\n    <tr>\n      <th>1</th>\n      <td>Nykaa Matte to Last! Mini Liquid Lipstick - Jh...</td>\n      <td>5.0</td>\n      <td>3.9</td>\n      <td>80807</td>\n      <td>Quality is really good and since the size is s...</td>\n    </tr>\n    <tr>\n      <th>688</th>\n      <td>Nykaa Matte to Last! Mini Liquid Lipstick - Jh...</td>\n      <td>5.0</td>\n      <td>3.9</td>\n      <td>80807</td>\n      <td>It's a beautiful shade and has a really pleasa...</td>\n    </tr>\n    <tr>\n      <th>415</th>\n      <td>Nykaa Matte to Last! Mini Liquid Lipstick - Jh...</td>\n      <td>5.0</td>\n      <td>3.9</td>\n      <td>80807</td>\n      <td>Over all nice product but size is too small.. ...</td>\n    </tr>\n    <tr>\n      <th>1722</th>\n      <td>Nykaa Serial Kisser Lip Balm - Raspberry</td>\n      <td>5.0</td>\n      <td>4.0</td>\n      <td>16264</td>\n      <td>I really liked the product..!</td>\n    </tr>\n    <tr>\n      <th>692</th>\n      <td>Nykaa Matte to Last! Mini Liquid Lipstick - Jh...</td>\n      <td>5.0</td>\n      <td>3.9</td>\n      <td>80807</td>\n      <td>It's very small only 1.3ml but it looks very c...</td>\n    </tr>\n    <tr>\n      <th>1252</th>\n      <td>Nykaa Serial Kisser Lip Balm - Grape</td>\n      <td>5.0</td>\n      <td>4.0</td>\n      <td>16264</td>\n      <td>This is a really good lip balm with a really g...</td>\n    </tr>\n    <tr>\n      <th>196</th>\n      <td>Nykaa Matte to Last! Mini Liquid Lipstick - Jh...</td>\n      <td>5.0</td>\n      <td>3.9</td>\n      <td>80807</td>\n      <td>Very cute easy to carry lipstick love it</td>\n    </tr>\n    <tr>\n      <th>1150</th>\n      <td>Nykaa So Matte! Mini Lipstick - 26 M Bon Bon</td>\n      <td>5.0</td>\n      <td>4.0</td>\n      <td>98477</td>\n      <td>Easy to carry around as it's small. Loved the ...</td>\n    </tr>\n    <tr>\n      <th>75</th>\n      <td>Nykaa Matte to Last! Mini Liquid Lipstick - Jh...</td>\n      <td>5.0</td>\n      <td>3.9</td>\n      <td>80807</td>\n      <td>It is very very good .... Very small and easy ...</td>\n    </tr>\n    <tr>\n      <th>2126</th>\n      <td>Nykaa So Matte! Mini Lipstick - 17 M Cranberry...</td>\n      <td>5.0</td>\n      <td>4.0</td>\n      <td>98477</td>\n      <td>Really good</td>\n    </tr>\n  </tbody>\n</table>\n</div>"
     },
     "execution_count": 11,
     "metadata": {},
     "output_type": "execute_result"
    }
   ],
   "source": [
    "get_content_based_recommendation('Olay Regenerist Whip Mini and Ultimate Eye Cream Combo')[\n",
    "    ['product_title', 'review_rating', 'product_rating', 'product_rating_count', 'review_text']]"
   ],
   "metadata": {
    "collapsed": false,
    "ExecuteTime": {
     "end_time": "2023-11-07T20:10:22.055148800Z",
     "start_time": "2023-11-07T20:10:22.021005700Z"
    }
   },
   "id": "f37231e89ad67ab2"
  },
  {
   "cell_type": "code",
   "execution_count": 14,
   "outputs": [
    {
     "data": {
      "text/plain": "                                          product_title  review_rating  \\\n1     Nykaa Matte to Last! Mini Liquid Lipstick - Jh...            5.0   \n688   Nykaa Matte to Last! Mini Liquid Lipstick - Jh...            5.0   \n415   Nykaa Matte to Last! Mini Liquid Lipstick - Jh...            5.0   \n1722           Nykaa Serial Kisser Lip Balm - Raspberry            5.0   \n692   Nykaa Matte to Last! Mini Liquid Lipstick - Jh...            5.0   \n1252               Nykaa Serial Kisser Lip Balm - Grape            5.0   \n196   Nykaa Matte to Last! Mini Liquid Lipstick - Jh...            5.0   \n1150       Nykaa So Matte! Mini Lipstick - 26 M Bon Bon            5.0   \n75    Nykaa Matte to Last! Mini Liquid Lipstick - Jh...            5.0   \n2126  Nykaa So Matte! Mini Lipstick - 17 M Cranberry...            5.0   \n\n      product_rating  product_rating_count  \\\n1                3.9                 80807   \n688              3.9                 80807   \n415              3.9                 80807   \n1722             4.0                 16264   \n692              3.9                 80807   \n1252             4.0                 16264   \n196              3.9                 80807   \n1150             4.0                 98477   \n75               3.9                 80807   \n2126             4.0                 98477   \n\n                                            review_text  \n1     Quality is really good and since the size is s...  \n688   It's a beautiful shade and has a really pleasa...  \n415   Over all nice product but size is too small.. ...  \n1722                      I really liked the product..!  \n692   It's very small only 1.3ml but it looks very c...  \n1252  This is a really good lip balm with a really g...  \n196            Very cute easy to carry lipstick love it  \n1150  Easy to carry around as it's small. Loved the ...  \n75    It is very very good .... Very small and easy ...  \n2126                                        Really good  ",
      "text/html": "<div>\n<style scoped>\n    .dataframe tbody tr th:only-of-type {\n        vertical-align: middle;\n    }\n\n    .dataframe tbody tr th {\n        vertical-align: top;\n    }\n\n    .dataframe thead th {\n        text-align: right;\n    }\n</style>\n<table border=\"1\" class=\"dataframe\">\n  <thead>\n    <tr style=\"text-align: right;\">\n      <th></th>\n      <th>product_title</th>\n      <th>review_rating</th>\n      <th>product_rating</th>\n      <th>product_rating_count</th>\n      <th>review_text</th>\n    </tr>\n  </thead>\n  <tbody>\n    <tr>\n      <th>1</th>\n      <td>Nykaa Matte to Last! Mini Liquid Lipstick - Jh...</td>\n      <td>5.0</td>\n      <td>3.9</td>\n      <td>80807</td>\n      <td>Quality is really good and since the size is s...</td>\n    </tr>\n    <tr>\n      <th>688</th>\n      <td>Nykaa Matte to Last! Mini Liquid Lipstick - Jh...</td>\n      <td>5.0</td>\n      <td>3.9</td>\n      <td>80807</td>\n      <td>It's a beautiful shade and has a really pleasa...</td>\n    </tr>\n    <tr>\n      <th>415</th>\n      <td>Nykaa Matte to Last! Mini Liquid Lipstick - Jh...</td>\n      <td>5.0</td>\n      <td>3.9</td>\n      <td>80807</td>\n      <td>Over all nice product but size is too small.. ...</td>\n    </tr>\n    <tr>\n      <th>1722</th>\n      <td>Nykaa Serial Kisser Lip Balm - Raspberry</td>\n      <td>5.0</td>\n      <td>4.0</td>\n      <td>16264</td>\n      <td>I really liked the product..!</td>\n    </tr>\n    <tr>\n      <th>692</th>\n      <td>Nykaa Matte to Last! Mini Liquid Lipstick - Jh...</td>\n      <td>5.0</td>\n      <td>3.9</td>\n      <td>80807</td>\n      <td>It's very small only 1.3ml but it looks very c...</td>\n    </tr>\n    <tr>\n      <th>1252</th>\n      <td>Nykaa Serial Kisser Lip Balm - Grape</td>\n      <td>5.0</td>\n      <td>4.0</td>\n      <td>16264</td>\n      <td>This is a really good lip balm with a really g...</td>\n    </tr>\n    <tr>\n      <th>196</th>\n      <td>Nykaa Matte to Last! Mini Liquid Lipstick - Jh...</td>\n      <td>5.0</td>\n      <td>3.9</td>\n      <td>80807</td>\n      <td>Very cute easy to carry lipstick love it</td>\n    </tr>\n    <tr>\n      <th>1150</th>\n      <td>Nykaa So Matte! Mini Lipstick - 26 M Bon Bon</td>\n      <td>5.0</td>\n      <td>4.0</td>\n      <td>98477</td>\n      <td>Easy to carry around as it's small. Loved the ...</td>\n    </tr>\n    <tr>\n      <th>75</th>\n      <td>Nykaa Matte to Last! Mini Liquid Lipstick - Jh...</td>\n      <td>5.0</td>\n      <td>3.9</td>\n      <td>80807</td>\n      <td>It is very very good .... Very small and easy ...</td>\n    </tr>\n    <tr>\n      <th>2126</th>\n      <td>Nykaa So Matte! Mini Lipstick - 17 M Cranberry...</td>\n      <td>5.0</td>\n      <td>4.0</td>\n      <td>98477</td>\n      <td>Really good</td>\n    </tr>\n  </tbody>\n</table>\n</div>"
     },
     "execution_count": 14,
     "metadata": {},
     "output_type": "execute_result"
    }
   ],
   "source": [
    "get_content_based_recommendation('Olay Total Effects 7 In One Anti-Ageing Day Cream Normal SPF 15')[\n",
    "    ['product_title', 'review_rating', 'product_rating', 'product_rating_count', 'review_text']]"
   ],
   "metadata": {
    "collapsed": false,
    "ExecuteTime": {
     "end_time": "2023-11-07T20:14:55.246547500Z",
     "start_time": "2023-11-07T20:14:55.222337100Z"
    }
   },
   "id": "a5eb3d277b6ffa27"
  },
  {
   "cell_type": "markdown",
   "source": [
    "## Cosine Similarity = measure of similarity between two vectors\n",
    "- normalized dot product\n",
    "- independent of the magnitude of the vectors\n",
    "- is 0 if the vectors are orthogonal\n",
    "- is 1 if the vectors are equal\n",
    "- symmetric\n",
    "- non negative\n",
    "- similarity between 2 vectors is always between 0 and 1 "
   ],
   "metadata": {
    "collapsed": false
   },
   "id": "f235923e96f1826"
  },
  {
   "cell_type": "markdown",
   "source": [
    "## Collaborative Filtering"
   ],
   "metadata": {
    "collapsed": false
   },
   "id": "117e0a8ca8e74fbd"
  },
  {
   "cell_type": "code",
   "execution_count": 15,
   "outputs": [
    {
     "name": "stdout",
     "output_type": "stream",
     "text": [
      "Number of ratings: 41669 | Number of items: 292\n"
     ]
    }
   ],
   "source": [
    "import pandas as pd\n",
    "\n",
    "rating_list = pd.read_csv('top_brands_cosmetics_product_reviews.csv', sep=',', usecols=['author', 'product_title', 'product_rating', 'review_date'])\n",
    "\n",
    "items = pd.read_csv('top_brands_cosmetics_product_reviews.csv', \n",
    "                    usecols=['product_title', 'product_url', 'brand_name'], encoding='latin-1')\n",
    "\n",
    "print(f'Number of ratings: {rating_list.author.nunique()} | Number of items: {items.product_title.nunique()}')"
   ],
   "metadata": {
    "collapsed": false,
    "ExecuteTime": {
     "end_time": "2023-11-08T10:24:57.646301500Z",
     "start_time": "2023-11-08T10:24:57.109095Z"
    }
   },
   "id": "b31d200ac83c3cd9"
  },
  {
   "cell_type": "code",
   "execution_count": 16,
   "outputs": [
    {
     "data": {
      "text/plain": "           author          review_date  \\\n0   Ashton Dsouza  2021-01-23 15:17:18   \n1    Amrit Neelam  2020-09-07 15:30:42   \n2    Sanchi Gupta  2020-11-13 12:24:14   \n3      Ruchi Shah  2020-06-14 11:56:50   \n4  Sukanya Sarkar  2020-12-22 15:24:35   \n\n                                       product_title  product_rating  \n0  Olay Ultra Lightweight Moisturiser: Luminous W...             4.1  \n1  Olay Ultra Lightweight Moisturiser: Luminous W...             4.1  \n2  Olay Ultra Lightweight Moisturiser: Luminous W...             4.1  \n3  Olay Ultra Lightweight Moisturiser: Luminous W...             4.1  \n4  Olay Ultra Lightweight Moisturiser: Luminous W...             4.1  ",
      "text/html": "<div>\n<style scoped>\n    .dataframe tbody tr th:only-of-type {\n        vertical-align: middle;\n    }\n\n    .dataframe tbody tr th {\n        vertical-align: top;\n    }\n\n    .dataframe thead th {\n        text-align: right;\n    }\n</style>\n<table border=\"1\" class=\"dataframe\">\n  <thead>\n    <tr style=\"text-align: right;\">\n      <th></th>\n      <th>author</th>\n      <th>review_date</th>\n      <th>product_title</th>\n      <th>product_rating</th>\n    </tr>\n  </thead>\n  <tbody>\n    <tr>\n      <th>0</th>\n      <td>Ashton Dsouza</td>\n      <td>2021-01-23 15:17:18</td>\n      <td>Olay Ultra Lightweight Moisturiser: Luminous W...</td>\n      <td>4.1</td>\n    </tr>\n    <tr>\n      <th>1</th>\n      <td>Amrit Neelam</td>\n      <td>2020-09-07 15:30:42</td>\n      <td>Olay Ultra Lightweight Moisturiser: Luminous W...</td>\n      <td>4.1</td>\n    </tr>\n    <tr>\n      <th>2</th>\n      <td>Sanchi Gupta</td>\n      <td>2020-11-13 12:24:14</td>\n      <td>Olay Ultra Lightweight Moisturiser: Luminous W...</td>\n      <td>4.1</td>\n    </tr>\n    <tr>\n      <th>3</th>\n      <td>Ruchi Shah</td>\n      <td>2020-06-14 11:56:50</td>\n      <td>Olay Ultra Lightweight Moisturiser: Luminous W...</td>\n      <td>4.1</td>\n    </tr>\n    <tr>\n      <th>4</th>\n      <td>Sukanya Sarkar</td>\n      <td>2020-12-22 15:24:35</td>\n      <td>Olay Ultra Lightweight Moisturiser: Luminous W...</td>\n      <td>4.1</td>\n    </tr>\n  </tbody>\n</table>\n</div>"
     },
     "execution_count": 16,
     "metadata": {},
     "output_type": "execute_result"
    }
   ],
   "source": [
    "rating_list.head()"
   ],
   "metadata": {
    "collapsed": false,
    "ExecuteTime": {
     "end_time": "2023-11-08T10:25:03.741846700Z",
     "start_time": "2023-11-08T10:25:03.686973500Z"
    }
   },
   "id": "1a1b92fae6b0d3be"
  },
  {
   "cell_type": "code",
   "execution_count": 25,
   "outputs": [
    {
     "ename": "ValueError",
     "evalue": "The least populated class in y has only 1 member, which is too few. The minimum number of groups for any class cannot be less than 2.",
     "output_type": "error",
     "traceback": [
      "\u001B[1;31m---------------------------------------------------------------------------\u001B[0m",
      "\u001B[1;31mValueError\u001B[0m                                Traceback (most recent call last)",
      "Cell \u001B[1;32mIn[25], line 3\u001B[0m\n\u001B[0;32m      1\u001B[0m \u001B[38;5;28;01mfrom\u001B[39;00m \u001B[38;5;21;01msklearn\u001B[39;00m\u001B[38;5;21;01m.\u001B[39;00m\u001B[38;5;21;01mmodel_selection\u001B[39;00m \u001B[38;5;28;01mimport\u001B[39;00m train_test_split\n\u001B[1;32m----> 3\u001B[0m X_train, X_test, y_train, y_test \u001B[38;5;241m=\u001B[39m \u001B[43mtrain_test_split\u001B[49m\u001B[43m(\u001B[49m\u001B[43mrating_list\u001B[49m\u001B[43m,\u001B[49m\u001B[43m \u001B[49m\u001B[43mrating_list\u001B[49m\u001B[38;5;241;43m.\u001B[39;49m\u001B[43mproduct_rating\u001B[49m\u001B[43m,\u001B[49m\u001B[43m \u001B[49m\u001B[43mstratify\u001B[49m\u001B[38;5;241;43m=\u001B[39;49m\u001B[43mrating_list\u001B[49m\u001B[38;5;241;43m.\u001B[39;49m\u001B[43mproduct_rating\u001B[49m\u001B[43m,\u001B[49m\u001B[43m \u001B[49m\u001B[43mrandom_state\u001B[49m\u001B[38;5;241;43m=\u001B[39;49m\u001B[38;5;241;43m42\u001B[39;49m\u001B[43m)\u001B[49m\n",
      "File \u001B[1;32m~\\Desktop\\data_and_ai_5\\recommender_systems\\venv\\Lib\\site-packages\\sklearn\\utils\\_param_validation.py:211\u001B[0m, in \u001B[0;36mvalidate_params.<locals>.decorator.<locals>.wrapper\u001B[1;34m(*args, **kwargs)\u001B[0m\n\u001B[0;32m    205\u001B[0m \u001B[38;5;28;01mtry\u001B[39;00m:\n\u001B[0;32m    206\u001B[0m     \u001B[38;5;28;01mwith\u001B[39;00m config_context(\n\u001B[0;32m    207\u001B[0m         skip_parameter_validation\u001B[38;5;241m=\u001B[39m(\n\u001B[0;32m    208\u001B[0m             prefer_skip_nested_validation \u001B[38;5;129;01mor\u001B[39;00m global_skip_validation\n\u001B[0;32m    209\u001B[0m         )\n\u001B[0;32m    210\u001B[0m     ):\n\u001B[1;32m--> 211\u001B[0m         \u001B[38;5;28;01mreturn\u001B[39;00m \u001B[43mfunc\u001B[49m\u001B[43m(\u001B[49m\u001B[38;5;241;43m*\u001B[39;49m\u001B[43margs\u001B[49m\u001B[43m,\u001B[49m\u001B[43m \u001B[49m\u001B[38;5;241;43m*\u001B[39;49m\u001B[38;5;241;43m*\u001B[39;49m\u001B[43mkwargs\u001B[49m\u001B[43m)\u001B[49m\n\u001B[0;32m    212\u001B[0m \u001B[38;5;28;01mexcept\u001B[39;00m InvalidParameterError \u001B[38;5;28;01mas\u001B[39;00m e:\n\u001B[0;32m    213\u001B[0m     \u001B[38;5;66;03m# When the function is just a wrapper around an estimator, we allow\u001B[39;00m\n\u001B[0;32m    214\u001B[0m     \u001B[38;5;66;03m# the function to delegate validation to the estimator, but we replace\u001B[39;00m\n\u001B[0;32m    215\u001B[0m     \u001B[38;5;66;03m# the name of the estimator by the name of the function in the error\u001B[39;00m\n\u001B[0;32m    216\u001B[0m     \u001B[38;5;66;03m# message to avoid confusion.\u001B[39;00m\n\u001B[0;32m    217\u001B[0m     msg \u001B[38;5;241m=\u001B[39m re\u001B[38;5;241m.\u001B[39msub(\n\u001B[0;32m    218\u001B[0m         \u001B[38;5;124mr\u001B[39m\u001B[38;5;124m\"\u001B[39m\u001B[38;5;124mparameter of \u001B[39m\u001B[38;5;124m\\\u001B[39m\u001B[38;5;124mw+ must be\u001B[39m\u001B[38;5;124m\"\u001B[39m,\n\u001B[0;32m    219\u001B[0m         \u001B[38;5;124mf\u001B[39m\u001B[38;5;124m\"\u001B[39m\u001B[38;5;124mparameter of \u001B[39m\u001B[38;5;132;01m{\u001B[39;00mfunc\u001B[38;5;241m.\u001B[39m\u001B[38;5;18m__qualname__\u001B[39m\u001B[38;5;132;01m}\u001B[39;00m\u001B[38;5;124m must be\u001B[39m\u001B[38;5;124m\"\u001B[39m,\n\u001B[0;32m    220\u001B[0m         \u001B[38;5;28mstr\u001B[39m(e),\n\u001B[0;32m    221\u001B[0m     )\n",
      "File \u001B[1;32m~\\Desktop\\data_and_ai_5\\recommender_systems\\venv\\Lib\\site-packages\\sklearn\\model_selection\\_split.py:2670\u001B[0m, in \u001B[0;36mtrain_test_split\u001B[1;34m(test_size, train_size, random_state, shuffle, stratify, *arrays)\u001B[0m\n\u001B[0;32m   2666\u001B[0m         CVClass \u001B[38;5;241m=\u001B[39m ShuffleSplit\n\u001B[0;32m   2668\u001B[0m     cv \u001B[38;5;241m=\u001B[39m CVClass(test_size\u001B[38;5;241m=\u001B[39mn_test, train_size\u001B[38;5;241m=\u001B[39mn_train, random_state\u001B[38;5;241m=\u001B[39mrandom_state)\n\u001B[1;32m-> 2670\u001B[0m     train, test \u001B[38;5;241m=\u001B[39m \u001B[38;5;28;43mnext\u001B[39;49m\u001B[43m(\u001B[49m\u001B[43mcv\u001B[49m\u001B[38;5;241;43m.\u001B[39;49m\u001B[43msplit\u001B[49m\u001B[43m(\u001B[49m\u001B[43mX\u001B[49m\u001B[38;5;241;43m=\u001B[39;49m\u001B[43marrays\u001B[49m\u001B[43m[\u001B[49m\u001B[38;5;241;43m0\u001B[39;49m\u001B[43m]\u001B[49m\u001B[43m,\u001B[49m\u001B[43m \u001B[49m\u001B[43my\u001B[49m\u001B[38;5;241;43m=\u001B[39;49m\u001B[43mstratify\u001B[49m\u001B[43m)\u001B[49m\u001B[43m)\u001B[49m\n\u001B[0;32m   2672\u001B[0m \u001B[38;5;28;01mreturn\u001B[39;00m \u001B[38;5;28mlist\u001B[39m(\n\u001B[0;32m   2673\u001B[0m     chain\u001B[38;5;241m.\u001B[39mfrom_iterable(\n\u001B[0;32m   2674\u001B[0m         (_safe_indexing(a, train), _safe_indexing(a, test)) \u001B[38;5;28;01mfor\u001B[39;00m a \u001B[38;5;129;01min\u001B[39;00m arrays\n\u001B[0;32m   2675\u001B[0m     )\n\u001B[0;32m   2676\u001B[0m )\n",
      "File \u001B[1;32m~\\Desktop\\data_and_ai_5\\recommender_systems\\venv\\Lib\\site-packages\\sklearn\\model_selection\\_split.py:1746\u001B[0m, in \u001B[0;36mBaseShuffleSplit.split\u001B[1;34m(self, X, y, groups)\u001B[0m\n\u001B[0;32m   1716\u001B[0m \u001B[38;5;250m\u001B[39m\u001B[38;5;124;03m\"\"\"Generate indices to split data into training and test set.\u001B[39;00m\n\u001B[0;32m   1717\u001B[0m \n\u001B[0;32m   1718\u001B[0m \u001B[38;5;124;03mParameters\u001B[39;00m\n\u001B[1;32m   (...)\u001B[0m\n\u001B[0;32m   1743\u001B[0m \u001B[38;5;124;03mto an integer.\u001B[39;00m\n\u001B[0;32m   1744\u001B[0m \u001B[38;5;124;03m\"\"\"\u001B[39;00m\n\u001B[0;32m   1745\u001B[0m X, y, groups \u001B[38;5;241m=\u001B[39m indexable(X, y, groups)\n\u001B[1;32m-> 1746\u001B[0m \u001B[43m\u001B[49m\u001B[38;5;28;43;01mfor\u001B[39;49;00m\u001B[43m \u001B[49m\u001B[43mtrain\u001B[49m\u001B[43m,\u001B[49m\u001B[43m \u001B[49m\u001B[43mtest\u001B[49m\u001B[43m \u001B[49m\u001B[38;5;129;43;01min\u001B[39;49;00m\u001B[43m \u001B[49m\u001B[38;5;28;43mself\u001B[39;49m\u001B[38;5;241;43m.\u001B[39;49m\u001B[43m_iter_indices\u001B[49m\u001B[43m(\u001B[49m\u001B[43mX\u001B[49m\u001B[43m,\u001B[49m\u001B[43m \u001B[49m\u001B[43my\u001B[49m\u001B[43m,\u001B[49m\u001B[43m \u001B[49m\u001B[43mgroups\u001B[49m\u001B[43m)\u001B[49m\u001B[43m:\u001B[49m\n\u001B[0;32m   1747\u001B[0m \u001B[43m    \u001B[49m\u001B[38;5;28;43;01myield\u001B[39;49;00m\u001B[43m \u001B[49m\u001B[43mtrain\u001B[49m\u001B[43m,\u001B[49m\u001B[43m \u001B[49m\u001B[43mtest\u001B[49m\n",
      "File \u001B[1;32m~\\Desktop\\data_and_ai_5\\recommender_systems\\venv\\Lib\\site-packages\\sklearn\\model_selection\\_split.py:2147\u001B[0m, in \u001B[0;36mStratifiedShuffleSplit._iter_indices\u001B[1;34m(self, X, y, groups)\u001B[0m\n\u001B[0;32m   2145\u001B[0m class_counts \u001B[38;5;241m=\u001B[39m np\u001B[38;5;241m.\u001B[39mbincount(y_indices)\n\u001B[0;32m   2146\u001B[0m \u001B[38;5;28;01mif\u001B[39;00m np\u001B[38;5;241m.\u001B[39mmin(class_counts) \u001B[38;5;241m<\u001B[39m \u001B[38;5;241m2\u001B[39m:\n\u001B[1;32m-> 2147\u001B[0m     \u001B[38;5;28;01mraise\u001B[39;00m \u001B[38;5;167;01mValueError\u001B[39;00m(\n\u001B[0;32m   2148\u001B[0m         \u001B[38;5;124m\"\u001B[39m\u001B[38;5;124mThe least populated class in y has only 1\u001B[39m\u001B[38;5;124m\"\u001B[39m\n\u001B[0;32m   2149\u001B[0m         \u001B[38;5;124m\"\u001B[39m\u001B[38;5;124m member, which is too few. The minimum\u001B[39m\u001B[38;5;124m\"\u001B[39m\n\u001B[0;32m   2150\u001B[0m         \u001B[38;5;124m\"\u001B[39m\u001B[38;5;124m number of groups for any class cannot\u001B[39m\u001B[38;5;124m\"\u001B[39m\n\u001B[0;32m   2151\u001B[0m         \u001B[38;5;124m\"\u001B[39m\u001B[38;5;124m be less than 2.\u001B[39m\u001B[38;5;124m\"\u001B[39m\n\u001B[0;32m   2152\u001B[0m     )\n\u001B[0;32m   2154\u001B[0m \u001B[38;5;28;01mif\u001B[39;00m n_train \u001B[38;5;241m<\u001B[39m n_classes:\n\u001B[0;32m   2155\u001B[0m     \u001B[38;5;28;01mraise\u001B[39;00m \u001B[38;5;167;01mValueError\u001B[39;00m(\n\u001B[0;32m   2156\u001B[0m         \u001B[38;5;124m\"\u001B[39m\u001B[38;5;124mThe train_size = \u001B[39m\u001B[38;5;132;01m%d\u001B[39;00m\u001B[38;5;124m should be greater or \u001B[39m\u001B[38;5;124m\"\u001B[39m\n\u001B[0;32m   2157\u001B[0m         \u001B[38;5;124m\"\u001B[39m\u001B[38;5;124mequal to the number of classes = \u001B[39m\u001B[38;5;132;01m%d\u001B[39;00m\u001B[38;5;124m\"\u001B[39m \u001B[38;5;241m%\u001B[39m (n_train, n_classes)\n\u001B[0;32m   2158\u001B[0m     )\n",
      "\u001B[1;31mValueError\u001B[0m: The least populated class in y has only 1 member, which is too few. The minimum number of groups for any class cannot be less than 2."
     ]
    }
   ],
   "source": [
    "from sklearn.model_selection import train_test_split\n",
    "9\n",
    "# add scaling \n",
    "X_train, X_test, y_train, y_test = train_test_split(rating_list, rating_list.product_rating, test_size=0.1, random_state=42)"
   ],
   "metadata": {
    "collapsed": false,
    "ExecuteTime": {
     "end_time": "2023-11-08T10:30:17.570563100Z",
     "start_time": "2023-11-08T10:30:17.482252500Z"
    }
   },
   "id": "effce3acebdc8b00"
  },
  {
   "cell_type": "code",
   "execution_count": 21,
   "outputs": [
    {
     "name": "stdout",
     "output_type": "stream",
     "text": [
      "Number of users: 33157 | Number of items: 279\n"
     ]
    },
    {
     "data": {
      "text/plain": "product_title  Colorbar Mogra Mist - Scent Of An India Temple - 001  \\\nauthor                                                                \n Monika                                                      0.0      \n# Ho                                                         0.0      \n$weety Soni                                                  0.0      \n*                                                            0.0      \n.                                                            0.0      \n\nproduct_title  Get Party Ready With Kay Beauty Lip Liner - Dance Off & Matte Lipstick - Premier  \\\nauthor                                                                                            \n Monika                                                      0.0                                  \n# Ho                                                         0.0                                  \n$weety Soni                                                  0.0                                  \n*                                                            0.0                                  \n.                                                            0.0                                  \n\nproduct_title  Herbal Essences Aloe & Bamboo Conditioner Soft Smooth Hair- No- Sulphates and Paraben(400gm)  \\\nauthor                                                                                                        \n Monika                                                      0.0                                              \n# Ho                                                         0.0                                              \n$weety Soni                                                  0.0                                              \n*                                                            0.0                                              \n.                                                            0.0                                              \n\nproduct_title  Herbal Essences Aloe & Bamboo Shampoo + Conditioner For Soft Smooth Hair, No Sulphates & Paraben  \\\nauthor                                                                                                            \n Monika                                                      0.0                                                  \n# Ho                                                         0.0                                                  \n$weety Soni                                                  0.0                                                  \n*                                                            0.0                                                  \n.                                                            0.0                                                  \n\nproduct_title  Herbal Essences Aloe & Bamboo Shampoo + Conditioner Kit For Soft Hair, Sulphate & Paraben Free  \\\nauthor                                                                                                          \n Monika                                                      0.0                                                \n# Ho                                                         0.0                                                \n$weety Soni                                                  0.0                                                \n*                                                            0.0                                                \n.                                                            0.0                                                \n\nproduct_title  Herbal Essences Aloe & Bamboo Shampoo For Soft Smooth Hair, No-Sulphates, Paraben and Silicones  \\\nauthor                                                                                                           \n Monika                                                      0.0                                                 \n# Ho                                                         0.0                                                 \n$weety Soni                                                  0.0                                                 \n*                                                            0.0                                                 \n.                                                            0.0                                                 \n\nproduct_title  Herbal Essences Aloe & Eucalyptus Shampoo + Aloe & Bamboo Conditioner, No- Sulphates & Paraben  \\\nauthor                                                                                                          \n Monika                                                      0.0                                                \n# Ho                                                         0.0                                                \n$weety Soni                                                  0.0                                                \n*                                                            0.0                                                \n.                                                            0.0                                                \n\nproduct_title  Herbal Essences Aloe & Eucalyptus Shampoo For Soft Smooth Hair, No- Sulphates, Paraben and Silicones  \\\nauthor                                                                                                                \n Monika                                                      0.0                                                      \n# Ho                                                         0.0                                                      \n$weety Soni                                                  0.0                                                      \n*                                                            0.0                                                      \n.                                                            0.0                                                      \n\nproduct_title  Herbal Essences Argan 2 Shampoo + Conditioner  \\\nauthor                                                         \n Monika                                                  0.0   \n# Ho                                                     0.0   \n$weety Soni                                              0.0   \n*                                                        0.0   \n.                                                        0.0   \n\nproduct_title  Herbal Essences Argan Oil Of Moroccan Shampoo & Conditioner With Free Neem Comb  \\\nauthor                                                                                           \n Monika                                                      0.0                                 \n# Ho                                                         0.0                                 \n$weety Soni                                                  0.0                                 \n*                                                            0.0                                 \n.                                                            0.0                                 \n\nproduct_title  ...  Olay Eye Cream - With Niacinamide & Pentapeptides  \\\nauthor         ...                                                      \n Monika        ...                                                0.0   \n# Ho           ...                                                0.0   \n$weety Soni    ...                                                0.0   \n*              ...                                                0.0   \n.              ...                                                0.0   \n\nproduct_title  Olay Regenerist Whip Mini and Ultimate Eye Cream Combo  \\\nauthor                                                                  \n Monika                                                      0.0        \n# Ho                                                         0.0        \n$weety Soni                                                  0.0        \n*                                                            0.0        \n.                                                            0.0        \n\nproduct_title  Olay Total Effects 7 In One Anti-Ageing Day Cream Normal SPF 15  \\\nauthor                                                                           \n Monika                                                      0.0                 \n# Ho                                                         0.0                 \n$weety Soni                                                  0.0                 \n*                                                            0.0                 \n.                                                            0.0                 \n\nproduct_title  Olay Total Effects 7 In One Day Cream Normal SPF 15 (Trial Size) 8gm  \\\nauthor                                                                                \n Monika                                                      0.0                      \n# Ho                                                         0.0                      \n$weety Soni                                                  0.0                      \n*                                                            0.0                      \n.                                                            0.0                      \n\nproduct_title  Olay Total Effects Day Cream For Sensitive Skin - Niacinamide  \\\nauthor                                                                         \n Monika                                                      0.0               \n# Ho                                                         0.0               \n$weety Soni                                                  0.0               \n*                                                            0.0               \n.                                                            0.0               \n\nproduct_title  Olay Ultimate Skin Regimen Kit  \\\nauthor                                          \n Monika                                   0.0   \n# Ho                                      0.0   \n$weety Soni                               0.0   \n*                                         0.0   \n.                                         0.0   \n\nproduct_title  Olay Ultra Lightweight Moisturiser: Luminous Whip Day Cream (non SPF)  \\\nauthor                                                                                 \n Monika                                                      0.0                       \n# Ho                                                         0.0                       \n$weety Soni                                                  0.0                       \n*                                                            0.0                       \n.                                                            0.0                       \n\nproduct_title  Olay White Radiance Day & Night Cream for Brightening and Glow  \\\nauthor                                                                          \n Monika                                                      0.0                \n# Ho                                                         0.0                \n$weety Soni                                                  0.0                \n*                                                            0.0                \n.                                                            0.0                \n\nproduct_title  Retinol & Hyaluronic Acid Sleeping Mask for Intense Hydration - Pack of 2  \\\nauthor                                                                                     \n Monika                                                      0.0                           \n# Ho                                                         0.0                           \n$weety Soni                                                  0.0                           \n*                                                            0.0                           \n.                                                            0.0                           \n\nproduct_title  The Ultimate Nude Duo - Kay Beauty Long Stay Matte Lipstick - Debut & Nail Enamel - Nutty 21  \nauthor                                                                                                       \n Monika                                                      0.0                                             \n# Ho                                                         0.0                                             \n$weety Soni                                                  0.0                                             \n*                                                            0.0                                             \n.                                                            0.0                                             \n\n[5 rows x 279 columns]",
      "text/html": "<div>\n<style scoped>\n    .dataframe tbody tr th:only-of-type {\n        vertical-align: middle;\n    }\n\n    .dataframe tbody tr th {\n        vertical-align: top;\n    }\n\n    .dataframe thead th {\n        text-align: right;\n    }\n</style>\n<table border=\"1\" class=\"dataframe\">\n  <thead>\n    <tr style=\"text-align: right;\">\n      <th>product_title</th>\n      <th>Colorbar Mogra Mist - Scent Of An India Temple - 001</th>\n      <th>Get Party Ready With Kay Beauty Lip Liner - Dance Off &amp; Matte Lipstick - Premier</th>\n      <th>Herbal Essences Aloe &amp; Bamboo Conditioner Soft Smooth Hair- No- Sulphates and Paraben(400gm)</th>\n      <th>Herbal Essences Aloe &amp; Bamboo Shampoo + Conditioner For Soft Smooth Hair, No Sulphates &amp; Paraben</th>\n      <th>Herbal Essences Aloe &amp; Bamboo Shampoo + Conditioner Kit For Soft Hair, Sulphate &amp; Paraben Free</th>\n      <th>Herbal Essences Aloe &amp; Bamboo Shampoo For Soft Smooth Hair, No-Sulphates, Paraben and Silicones</th>\n      <th>Herbal Essences Aloe &amp; Eucalyptus Shampoo + Aloe &amp; Bamboo Conditioner, No- Sulphates &amp; Paraben</th>\n      <th>Herbal Essences Aloe &amp; Eucalyptus Shampoo For Soft Smooth Hair, No- Sulphates, Paraben and Silicones</th>\n      <th>Herbal Essences Argan 2 Shampoo + Conditioner</th>\n      <th>Herbal Essences Argan Oil Of Moroccan Shampoo &amp; Conditioner With Free Neem Comb</th>\n      <th>...</th>\n      <th>Olay Eye Cream - With Niacinamide &amp; Pentapeptides</th>\n      <th>Olay Regenerist Whip Mini and Ultimate Eye Cream Combo</th>\n      <th>Olay Total Effects 7 In One Anti-Ageing Day Cream Normal SPF 15</th>\n      <th>Olay Total Effects 7 In One Day Cream Normal SPF 15 (Trial Size) 8gm</th>\n      <th>Olay Total Effects Day Cream For Sensitive Skin - Niacinamide</th>\n      <th>Olay Ultimate Skin Regimen Kit</th>\n      <th>Olay Ultra Lightweight Moisturiser: Luminous Whip Day Cream (non SPF)</th>\n      <th>Olay White Radiance Day &amp; Night Cream for Brightening and Glow</th>\n      <th>Retinol &amp; Hyaluronic Acid Sleeping Mask for Intense Hydration - Pack of 2</th>\n      <th>The Ultimate Nude Duo - Kay Beauty Long Stay Matte Lipstick - Debut &amp; Nail Enamel - Nutty 21</th>\n    </tr>\n    <tr>\n      <th>author</th>\n      <th></th>\n      <th></th>\n      <th></th>\n      <th></th>\n      <th></th>\n      <th></th>\n      <th></th>\n      <th></th>\n      <th></th>\n      <th></th>\n      <th></th>\n      <th></th>\n      <th></th>\n      <th></th>\n      <th></th>\n      <th></th>\n      <th></th>\n      <th></th>\n      <th></th>\n      <th></th>\n      <th></th>\n    </tr>\n  </thead>\n  <tbody>\n    <tr>\n      <th>Monika</th>\n      <td>0.0</td>\n      <td>0.0</td>\n      <td>0.0</td>\n      <td>0.0</td>\n      <td>0.0</td>\n      <td>0.0</td>\n      <td>0.0</td>\n      <td>0.0</td>\n      <td>0.0</td>\n      <td>0.0</td>\n      <td>...</td>\n      <td>0.0</td>\n      <td>0.0</td>\n      <td>0.0</td>\n      <td>0.0</td>\n      <td>0.0</td>\n      <td>0.0</td>\n      <td>0.0</td>\n      <td>0.0</td>\n      <td>0.0</td>\n      <td>0.0</td>\n    </tr>\n    <tr>\n      <th># Ho</th>\n      <td>0.0</td>\n      <td>0.0</td>\n      <td>0.0</td>\n      <td>0.0</td>\n      <td>0.0</td>\n      <td>0.0</td>\n      <td>0.0</td>\n      <td>0.0</td>\n      <td>0.0</td>\n      <td>0.0</td>\n      <td>...</td>\n      <td>0.0</td>\n      <td>0.0</td>\n      <td>0.0</td>\n      <td>0.0</td>\n      <td>0.0</td>\n      <td>0.0</td>\n      <td>0.0</td>\n      <td>0.0</td>\n      <td>0.0</td>\n      <td>0.0</td>\n    </tr>\n    <tr>\n      <th>$weety Soni</th>\n      <td>0.0</td>\n      <td>0.0</td>\n      <td>0.0</td>\n      <td>0.0</td>\n      <td>0.0</td>\n      <td>0.0</td>\n      <td>0.0</td>\n      <td>0.0</td>\n      <td>0.0</td>\n      <td>0.0</td>\n      <td>...</td>\n      <td>0.0</td>\n      <td>0.0</td>\n      <td>0.0</td>\n      <td>0.0</td>\n      <td>0.0</td>\n      <td>0.0</td>\n      <td>0.0</td>\n      <td>0.0</td>\n      <td>0.0</td>\n      <td>0.0</td>\n    </tr>\n    <tr>\n      <th>*</th>\n      <td>0.0</td>\n      <td>0.0</td>\n      <td>0.0</td>\n      <td>0.0</td>\n      <td>0.0</td>\n      <td>0.0</td>\n      <td>0.0</td>\n      <td>0.0</td>\n      <td>0.0</td>\n      <td>0.0</td>\n      <td>...</td>\n      <td>0.0</td>\n      <td>0.0</td>\n      <td>0.0</td>\n      <td>0.0</td>\n      <td>0.0</td>\n      <td>0.0</td>\n      <td>0.0</td>\n      <td>0.0</td>\n      <td>0.0</td>\n      <td>0.0</td>\n    </tr>\n    <tr>\n      <th>.</th>\n      <td>0.0</td>\n      <td>0.0</td>\n      <td>0.0</td>\n      <td>0.0</td>\n      <td>0.0</td>\n      <td>0.0</td>\n      <td>0.0</td>\n      <td>0.0</td>\n      <td>0.0</td>\n      <td>0.0</td>\n      <td>...</td>\n      <td>0.0</td>\n      <td>0.0</td>\n      <td>0.0</td>\n      <td>0.0</td>\n      <td>0.0</td>\n      <td>0.0</td>\n      <td>0.0</td>\n      <td>0.0</td>\n      <td>0.0</td>\n      <td>0.0</td>\n    </tr>\n  </tbody>\n</table>\n<p>5 rows × 279 columns</p>\n</div>"
     },
     "execution_count": 21,
     "metadata": {},
     "output_type": "execute_result"
    }
   ],
   "source": [
    "# pivot the ratings to user-item matrix\n",
    "ratings = X_train.pivot_table(index=['author'], columns=['product_title'], values='product_rating').fillna(0)\n",
    "mean_ratings = ratings.mean(axis=1)\n",
    "print(f'Number of users: {ratings.shape[0]} | Number of items: {ratings.shape[1]}')\n",
    "ratings.head()"
   ],
   "metadata": {
    "collapsed": false,
    "ExecuteTime": {
     "end_time": "2023-11-08T10:29:11.215486900Z",
     "start_time": "2023-11-08T10:29:10.909117400Z"
    }
   },
   "id": "8db53977bf6ebd4a"
  },
  {
   "cell_type": "code",
   "execution_count": 26,
   "outputs": [],
   "source": [
    "# Calculate similarity\n",
    "def get_all_recommendations(user_id, model, use_means=True):\n",
    "    distance, knn = model.kneighbors(ratings.fillna(0)) # nearest neighbors\n",
    "    knn = pd.DataFrame(knn + 1, index=ratings.index)\n",
    "    sim = pd.DataFrame(1 - distance, index=ratings.index) # invert the distance\n",
    "    neighbors = knn.loc[user_id, 1:]\n",
    "    similarities = sim.loc[user_id, 1:]\n",
    "    similarities.index = ratings.loc[neighbors].index\n",
    "    \n",
    "    if use_means:\n",
    "        return pd.Series(mean_ratings.loc[user_id] + ratings.loc[neighbors].subtract(mean_ratings.loc[neighbors], axis='index').mul(similarities, axis='index').sum(axis='index') / similarities.sum(), name='recommendation')\n",
    "    else:\n",
    "        return pd.Series(ratings.loc[neighbors].mul(similarities, axis='index').sum(axis='index') / similarities.sum(), name='recommendation')\n",
    "    \n",
    "# compute a single recommendation for a given user, product and model\n",
    "def get_recommendations (user_id, product_id, model, use_means=True):\n",
    "    if product_id not in ratings.columns:\n",
    "        return 2.5\n",
    "    recommendations = get_all_recommendations(user_id, model, use_means=use_means)\n",
    "    return recommendations.loc[product_id]"
   ],
   "metadata": {
    "collapsed": false,
    "ExecuteTime": {
     "end_time": "2023-11-08T10:38:35.182973Z",
     "start_time": "2023-11-08T10:38:35.158402Z"
    }
   },
   "id": "7b010f5bbba80514"
  },
  {
   "cell_type": "markdown",
   "source": [
    "Compute Root Mean Squared Error (RMSE) to evaluate to predict ratings for all products for every user in the dataset\n",
    "\n",
    "Then, line the predicted ratings with the actual ratings in the test set and calculate the RMSE.7"
   ],
   "metadata": {
    "collapsed": false
   },
   "id": "19fdfb613e67bebf"
  },
  {
   "cell_type": "code",
   "execution_count": 38,
   "outputs": [
    {
     "ename": "ValueError",
     "evalue": "No objects to concatenate",
     "output_type": "error",
     "traceback": [
      "\u001B[1;31m---------------------------------------------------------------------------\u001B[0m",
      "\u001B[1;31mValueError\u001B[0m                                Traceback (most recent call last)",
      "Cell \u001B[1;32mIn[38], line 26\u001B[0m\n\u001B[0;32m     23\u001B[0m     score \u001B[38;5;241m=\u001B[39m np\u001B[38;5;241m.\u001B[39msqrt(mean_squared_error(mse\u001B[38;5;241m.\u001B[39mproduct_rating, mse\u001B[38;5;241m.\u001B[39mrecommendation))\n\u001B[0;32m     24\u001B[0m     \u001B[38;5;28mprint\u001B[39m(\u001B[38;5;124mf\u001B[39m\u001B[38;5;124m'\u001B[39m\u001B[38;5;132;01m{\u001B[39;00mX_test\u001B[38;5;241m.\u001B[39mauthor\u001B[38;5;241m.\u001B[39mnunique()\u001B[38;5;132;01m}\u001B[39;00m\u001B[38;5;124m/\u001B[39m\u001B[38;5;132;01m{\u001B[39;00mX_test\u001B[38;5;241m.\u001B[39mauthor\u001B[38;5;241m.\u001B[39mnunique()\u001B[38;5;132;01m}\u001B[39;00m\u001B[38;5;124m - RMSE: \u001B[39m\u001B[38;5;132;01m{\u001B[39;00mscore\u001B[38;5;132;01m:\u001B[39;00m\u001B[38;5;124m.4f\u001B[39m\u001B[38;5;132;01m}\u001B[39;00m\u001B[38;5;124m'\u001B[39m)\n\u001B[1;32m---> 26\u001B[0m \u001B[43mget_RMSE\u001B[49m\u001B[43m(\u001B[49m\u001B[43mX_test\u001B[49m\u001B[43m,\u001B[49m\u001B[43m \u001B[49m\u001B[43mmodel\u001B[49m\u001B[43m)\u001B[49m\n",
      "Cell \u001B[1;32mIn[38], line 22\u001B[0m, in \u001B[0;36mget_RMSE\u001B[1;34m(X_test, model, use_means)\u001B[0m\n\u001B[0;32m     20\u001B[0m         \u001B[38;5;28mprint\u001B[39m(\u001B[38;5;124mf\u001B[39m\u001B[38;5;124m'\u001B[39m\u001B[38;5;132;01m{\u001B[39;00mi\u001B[38;5;132;01m}\u001B[39;00m\u001B[38;5;124m/\u001B[39m\u001B[38;5;132;01m{\u001B[39;00mX_test\u001B[38;5;241m.\u001B[39mauthor\u001B[38;5;241m.\u001B[39mnunique()\u001B[38;5;132;01m}\u001B[39;00m\u001B[38;5;124m - RMSE: \u001B[39m\u001B[38;5;132;01m{\u001B[39;00mscore\u001B[38;5;132;01m:\u001B[39;00m\u001B[38;5;124m.4f\u001B[39m\u001B[38;5;132;01m}\u001B[39;00m\u001B[38;5;124m'\u001B[39m)\n\u001B[0;32m     21\u001B[0m     i \u001B[38;5;241m+\u001B[39m\u001B[38;5;241m=\u001B[39m \u001B[38;5;241m1\u001B[39m\n\u001B[1;32m---> 22\u001B[0m mse \u001B[38;5;241m=\u001B[39m \u001B[43mpd\u001B[49m\u001B[38;5;241;43m.\u001B[39;49m\u001B[43mconcat\u001B[49m\u001B[43m(\u001B[49m\u001B[43mmse\u001B[49m\u001B[43m)\u001B[49m\u001B[38;5;241m.\u001B[39mreset_index(drop\u001B[38;5;241m=\u001B[39m\u001B[38;5;28;01mTrue\u001B[39;00m)\n\u001B[0;32m     23\u001B[0m score \u001B[38;5;241m=\u001B[39m np\u001B[38;5;241m.\u001B[39msqrt(mean_squared_error(mse\u001B[38;5;241m.\u001B[39mproduct_rating, mse\u001B[38;5;241m.\u001B[39mrecommendation))\n\u001B[0;32m     24\u001B[0m \u001B[38;5;28mprint\u001B[39m(\u001B[38;5;124mf\u001B[39m\u001B[38;5;124m'\u001B[39m\u001B[38;5;132;01m{\u001B[39;00mX_test\u001B[38;5;241m.\u001B[39mauthor\u001B[38;5;241m.\u001B[39mnunique()\u001B[38;5;132;01m}\u001B[39;00m\u001B[38;5;124m/\u001B[39m\u001B[38;5;132;01m{\u001B[39;00mX_test\u001B[38;5;241m.\u001B[39mauthor\u001B[38;5;241m.\u001B[39mnunique()\u001B[38;5;132;01m}\u001B[39;00m\u001B[38;5;124m - RMSE: \u001B[39m\u001B[38;5;132;01m{\u001B[39;00mscore\u001B[38;5;132;01m:\u001B[39;00m\u001B[38;5;124m.4f\u001B[39m\u001B[38;5;132;01m}\u001B[39;00m\u001B[38;5;124m'\u001B[39m)\n",
      "File \u001B[1;32m~\\Desktop\\data_and_ai_5\\recommender_systems\\venv\\Lib\\site-packages\\pandas\\core\\reshape\\concat.py:380\u001B[0m, in \u001B[0;36mconcat\u001B[1;34m(objs, axis, join, ignore_index, keys, levels, names, verify_integrity, sort, copy)\u001B[0m\n\u001B[0;32m    377\u001B[0m \u001B[38;5;28;01melif\u001B[39;00m copy \u001B[38;5;129;01mand\u001B[39;00m using_copy_on_write():\n\u001B[0;32m    378\u001B[0m     copy \u001B[38;5;241m=\u001B[39m \u001B[38;5;28;01mFalse\u001B[39;00m\n\u001B[1;32m--> 380\u001B[0m op \u001B[38;5;241m=\u001B[39m \u001B[43m_Concatenator\u001B[49m\u001B[43m(\u001B[49m\n\u001B[0;32m    381\u001B[0m \u001B[43m    \u001B[49m\u001B[43mobjs\u001B[49m\u001B[43m,\u001B[49m\n\u001B[0;32m    382\u001B[0m \u001B[43m    \u001B[49m\u001B[43maxis\u001B[49m\u001B[38;5;241;43m=\u001B[39;49m\u001B[43maxis\u001B[49m\u001B[43m,\u001B[49m\n\u001B[0;32m    383\u001B[0m \u001B[43m    \u001B[49m\u001B[43mignore_index\u001B[49m\u001B[38;5;241;43m=\u001B[39;49m\u001B[43mignore_index\u001B[49m\u001B[43m,\u001B[49m\n\u001B[0;32m    384\u001B[0m \u001B[43m    \u001B[49m\u001B[43mjoin\u001B[49m\u001B[38;5;241;43m=\u001B[39;49m\u001B[43mjoin\u001B[49m\u001B[43m,\u001B[49m\n\u001B[0;32m    385\u001B[0m \u001B[43m    \u001B[49m\u001B[43mkeys\u001B[49m\u001B[38;5;241;43m=\u001B[39;49m\u001B[43mkeys\u001B[49m\u001B[43m,\u001B[49m\n\u001B[0;32m    386\u001B[0m \u001B[43m    \u001B[49m\u001B[43mlevels\u001B[49m\u001B[38;5;241;43m=\u001B[39;49m\u001B[43mlevels\u001B[49m\u001B[43m,\u001B[49m\n\u001B[0;32m    387\u001B[0m \u001B[43m    \u001B[49m\u001B[43mnames\u001B[49m\u001B[38;5;241;43m=\u001B[39;49m\u001B[43mnames\u001B[49m\u001B[43m,\u001B[49m\n\u001B[0;32m    388\u001B[0m \u001B[43m    \u001B[49m\u001B[43mverify_integrity\u001B[49m\u001B[38;5;241;43m=\u001B[39;49m\u001B[43mverify_integrity\u001B[49m\u001B[43m,\u001B[49m\n\u001B[0;32m    389\u001B[0m \u001B[43m    \u001B[49m\u001B[43mcopy\u001B[49m\u001B[38;5;241;43m=\u001B[39;49m\u001B[43mcopy\u001B[49m\u001B[43m,\u001B[49m\n\u001B[0;32m    390\u001B[0m \u001B[43m    \u001B[49m\u001B[43msort\u001B[49m\u001B[38;5;241;43m=\u001B[39;49m\u001B[43msort\u001B[49m\u001B[43m,\u001B[49m\n\u001B[0;32m    391\u001B[0m \u001B[43m\u001B[49m\u001B[43m)\u001B[49m\n\u001B[0;32m    393\u001B[0m \u001B[38;5;28;01mreturn\u001B[39;00m op\u001B[38;5;241m.\u001B[39mget_result()\n",
      "File \u001B[1;32m~\\Desktop\\data_and_ai_5\\recommender_systems\\venv\\Lib\\site-packages\\pandas\\core\\reshape\\concat.py:443\u001B[0m, in \u001B[0;36m_Concatenator.__init__\u001B[1;34m(self, objs, axis, join, keys, levels, names, ignore_index, verify_integrity, copy, sort)\u001B[0m\n\u001B[0;32m    440\u001B[0m \u001B[38;5;28mself\u001B[39m\u001B[38;5;241m.\u001B[39mverify_integrity \u001B[38;5;241m=\u001B[39m verify_integrity\n\u001B[0;32m    441\u001B[0m \u001B[38;5;28mself\u001B[39m\u001B[38;5;241m.\u001B[39mcopy \u001B[38;5;241m=\u001B[39m copy\n\u001B[1;32m--> 443\u001B[0m objs, keys \u001B[38;5;241m=\u001B[39m \u001B[38;5;28;43mself\u001B[39;49m\u001B[38;5;241;43m.\u001B[39;49m\u001B[43m_clean_keys_and_objs\u001B[49m\u001B[43m(\u001B[49m\u001B[43mobjs\u001B[49m\u001B[43m,\u001B[49m\u001B[43m \u001B[49m\u001B[43mkeys\u001B[49m\u001B[43m)\u001B[49m\n\u001B[0;32m    445\u001B[0m \u001B[38;5;66;03m# figure out what our result ndim is going to be\u001B[39;00m\n\u001B[0;32m    446\u001B[0m ndims \u001B[38;5;241m=\u001B[39m \u001B[38;5;28mself\u001B[39m\u001B[38;5;241m.\u001B[39m_get_ndims(objs)\n",
      "File \u001B[1;32m~\\Desktop\\data_and_ai_5\\recommender_systems\\venv\\Lib\\site-packages\\pandas\\core\\reshape\\concat.py:505\u001B[0m, in \u001B[0;36m_Concatenator._clean_keys_and_objs\u001B[1;34m(self, objs, keys)\u001B[0m\n\u001B[0;32m    502\u001B[0m     objs_list \u001B[38;5;241m=\u001B[39m \u001B[38;5;28mlist\u001B[39m(objs)\n\u001B[0;32m    504\u001B[0m \u001B[38;5;28;01mif\u001B[39;00m \u001B[38;5;28mlen\u001B[39m(objs_list) \u001B[38;5;241m==\u001B[39m \u001B[38;5;241m0\u001B[39m:\n\u001B[1;32m--> 505\u001B[0m     \u001B[38;5;28;01mraise\u001B[39;00m \u001B[38;5;167;01mValueError\u001B[39;00m(\u001B[38;5;124m\"\u001B[39m\u001B[38;5;124mNo objects to concatenate\u001B[39m\u001B[38;5;124m\"\u001B[39m)\n\u001B[0;32m    507\u001B[0m \u001B[38;5;28;01mif\u001B[39;00m keys \u001B[38;5;129;01mis\u001B[39;00m \u001B[38;5;28;01mNone\u001B[39;00m:\n\u001B[0;32m    508\u001B[0m     objs_list \u001B[38;5;241m=\u001B[39m \u001B[38;5;28mlist\u001B[39m(com\u001B[38;5;241m.\u001B[39mnot_none(\u001B[38;5;241m*\u001B[39mobjs_list))\n",
      "\u001B[1;31mValueError\u001B[0m: No objects to concatenate"
     ]
    }
   ],
   "source": [
    "from sklearn.neighbors import NearestNeighbors\n",
    "from sklearn.metrics import mean_squared_error\n",
    "\n",
    "model = NearestNeighbors(n_neighbors=40, metric='cosine')\n",
    "model.fit(ratings.fillna(0))\n",
    "\n",
    "def get_RMSE(X_test, model, use_means=True):\n",
    "    group = X_test[['product_title', 'product_rating']].groupby(X_test.author)\n",
    "    mse = []\n",
    "    i = 0\n",
    "    for key in group.groups:\n",
    "        if key not in rating_list['author']:\n",
    "            continue  # Skip users not in the dataset\n",
    "        predictions = get_all_recommendations(key, model=model, use_means=use_means)\n",
    "        rated_products = group.get_group(key).set_index('product_title')\n",
    "        df = rated_products.join(predictions).dropna().reset_index()\n",
    "        mse.append(df)\n",
    "        if i % 100 == 0:\n",
    "            score = np.sqrt(mean_squared_error(df.product_rating, df.recommendation))\n",
    "            print(f'{i}/{X_test.author.nunique()} - RMSE: {score:.4f}')\n",
    "        i += 1\n",
    "    mse = pd.concat(mse).reset_index(drop=True)\n",
    "    score = np.sqrt(mean_squared_error(mse.product_rating, mse.recommendation))\n",
    "    print(f'{X_test.author.nunique()}/{X_test.author.nunique()} - RMSE: {score:.4f}')\n",
    "    \n",
    "get_RMSE(X_test, model)"
   ],
   "metadata": {
    "collapsed": false,
    "ExecuteTime": {
     "end_time": "2023-11-08T10:52:37.671036700Z",
     "start_time": "2023-11-08T10:52:37.383659400Z"
    }
   },
   "id": "54adf9ddb8c2ca0f"
  },
  {
   "cell_type": "code",
   "execution_count": null,
   "outputs": [],
   "source": [
    "import pandas as pd\n",
    "from surprise import Dataset, Reader\n",
    "\n",
    "ratings_dict = {\n",
    "    \"item\": [1, 2, 1, 2, 1, 2, 1, 2, 1],\n",
    "    \"user\": ['A', 'A', 'B', 'B', 'C', 'C', 'D', 'D', 'E'],\n",
    "    \"rating\": [1, 2, 2, 4, 2.5, 4, 4.5, 5, 3],\n",
    "}\n",
    "\n",
    "df = pd.DataFrame(ratings_dict)\n",
    "reader = Reader(rating_scale=(1, 5))\n",
    "\n",
    "data = Dataset.load_from_df(df[[\"user\", \"item\", \"rating\"]], reader)\n",
    "\n",
    "movielens = Dataset.load_builtin('ml-100k') "
   ],
   "metadata": {
    "collapsed": false
   },
   "id": "ac18b534bc5823d8"
  },
  {
   "cell_type": "code",
   "execution_count": null,
   "outputs": [],
   "source": [
    "trainingSet = movielens.build_full_trainset()\n",
    "algo.fit(trainingSet)"
   ],
   "metadata": {
    "collapsed": false
   },
   "id": "2f559bfea1a6176e"
  },
  {
   "cell_type": "code",
   "execution_count": null,
   "outputs": [],
   "source": [
    "import numpy as np\n",
    "from sklearn.metrics.pairwise import cosine_similarity\n",
    "\n",
    "\n",
    "def get_recommendation(id_user, id_movie, ratings):\n",
    "    #cosine similarity of the ratings\n",
    "    similarity_matrix = cosine_similarity(ratings.fillna(0), ratings.fillna(0))\n",
    "    similarity_matrix_df = pd.DataFrame(similarity_matrix, index=ratings.index, columns=ratings.index)\n",
    "\n",
    "    cosine_scores = similarity_matrix_df[id_user]\n",
    "    ratings_scores = ratings[id_movie]\n",
    "    ratings_scores.dropna().dot(cosine_scores[~ratings_scores.isna()]) / cosine_scores[~ratings_scores.isna()].sum()\n",
    "    return np.dot(ratings_scores.dropna(), cosine_scores[~ratings_scores.isna()]) / cosine_scores[\n",
    "        ~ratings_scores.isna()].sum()\n",
    "\n",
    "\n",
    "# get recommendation for user 196 for movie 8\n",
    "get_recommendation(196, 8, ratings)"
   ],
   "metadata": {
    "collapsed": false
   },
   "id": "4e19bfd246106e7d"
  }
 ],
 "metadata": {
  "kernelspec": {
   "display_name": "Python 3",
   "language": "python",
   "name": "python3"
  },
  "language_info": {
   "codemirror_mode": {
    "name": "ipython",
    "version": 2
   },
   "file_extension": ".py",
   "mimetype": "text/x-python",
   "name": "python",
   "nbconvert_exporter": "python",
   "pygments_lexer": "ipython2",
   "version": "2.7.6"
  }
 },
 "nbformat": 4,
 "nbformat_minor": 5
}
